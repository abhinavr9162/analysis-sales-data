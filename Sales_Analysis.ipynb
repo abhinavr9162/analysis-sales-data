{
  "metadata": {
    "kernelspec": {
      "language": "python",
      "display_name": "Python 3",
      "name": "python3"
    },
    "language_info": {
      "name": "python",
      "version": "3.10.12",
      "mimetype": "text/x-python",
      "codemirror_mode": {
        "name": "ipython",
        "version": 3
      },
      "pygments_lexer": "ipython3",
      "nbconvert_exporter": "python",
      "file_extension": ".py"
    },
    "kaggle": {
      "accelerator": "none",
      "dataSources": [
        {
          "sourceId": 896,
          "sourceType": "datasetVersion",
          "datasetId": 435
        }
      ],
      "dockerImageVersionId": 30839,
      "isInternetEnabled": true,
      "language": "python",
      "sourceType": "notebook",
      "isGpuEnabled": false
    },
    "colab": {
      "name": "Sales Analysis",
      "provenance": [],
      "include_colab_link": true
    }
  },
  "nbformat_minor": 0,
  "nbformat": 4,
  "cells": [
    {
      "cell_type": "markdown",
      "metadata": {
        "id": "view-in-github",
        "colab_type": "text"
      },
      "source": [
        "<a href=\"https://colab.research.google.com/github/abhinavr9162/analysis-sales-data/blob/main/Sales_Analysis.ipynb\" target=\"_parent\"><img src=\"https://colab.research.google.com/assets/colab-badge.svg\" alt=\"Open In Colab\"/></a>"
      ]
    },
    {
      "cell_type": "markdown",
      "source": [
        "Reading and Exploring the Data"
      ],
      "metadata": {
        "id": "yvhADbUA9O1c"
      }
    },
    {
      "cell_type": "code",
      "source": [
        "import pandas as pd\n",
        "import matplotlib.pyplot as plt\n",
        "import seaborn as sns\n",
        "\n",
        "\n",
        "import warnings\n",
        "warnings.filterwarnings(\"ignore\", category=FutureWarning)"
      ],
      "metadata": {
        "trusted": true,
        "execution": {
          "iopub.status.busy": "2025-02-05T16:10:10.454194Z",
          "iopub.execute_input": "2025-02-05T16:10:10.454575Z",
          "iopub.status.idle": "2025-02-05T16:10:10.459124Z",
          "shell.execute_reply.started": "2025-02-05T16:10:10.454546Z",
          "shell.execute_reply": "2025-02-05T16:10:10.45792Z"
        },
        "id": "BvaGLztv9O1e"
      },
      "outputs": [],
      "execution_count": 1
    },
    {
      "cell_type": "code",
      "source": [
        "sales_data = pd.read_csv('/content/sales_data_sample.csv', encoding='latin1')"
      ],
      "metadata": {
        "trusted": true,
        "execution": {
          "iopub.status.busy": "2025-02-05T15:21:24.135242Z",
          "iopub.execute_input": "2025-02-05T15:21:24.135656Z",
          "iopub.status.idle": "2025-02-05T15:21:24.195036Z",
          "shell.execute_reply.started": "2025-02-05T15:21:24.135629Z",
          "shell.execute_reply": "2025-02-05T15:21:24.19401Z"
        },
        "id": "lOUeEUFW9O1f"
      },
      "outputs": [],
      "execution_count": 2
    },
    {
      "cell_type": "code",
      "source": [
        "sales_data.head()"
      ],
      "metadata": {
        "trusted": true,
        "execution": {
          "iopub.status.busy": "2025-02-05T15:21:24.196782Z",
          "iopub.execute_input": "2025-02-05T15:21:24.197078Z",
          "iopub.status.idle": "2025-02-05T15:21:24.236471Z",
          "shell.execute_reply.started": "2025-02-05T15:21:24.197054Z",
          "shell.execute_reply": "2025-02-05T15:21:24.235507Z"
        },
        "colab": {
          "base_uri": "https://localhost:8080/",
          "height": 360
        },
        "id": "ouBACKV19O1g",
        "outputId": "1ec98a8b-58e9-41e3-d793-e35566195da5"
      },
      "outputs": [
        {
          "output_type": "execute_result",
          "data": {
            "text/plain": [
              "   ORDERNUMBER  QUANTITYORDERED  PRICEEACH  ORDERLINENUMBER    SALES  \\\n",
              "0        10107               30      95.70                2  2871.00   \n",
              "1        10121               34      81.35                5  2765.90   \n",
              "2        10134               41      94.74                2  3884.34   \n",
              "3        10145               45      83.26                6  3746.70   \n",
              "4        10159               49     100.00               14  5205.27   \n",
              "\n",
              "         ORDERDATE   STATUS  QTR_ID  MONTH_ID  YEAR_ID  ...  \\\n",
              "0   2/24/2003 0:00  Shipped       1         2     2003  ...   \n",
              "1    5/7/2003 0:00  Shipped       2         5     2003  ...   \n",
              "2    7/1/2003 0:00  Shipped       3         7     2003  ...   \n",
              "3   8/25/2003 0:00  Shipped       3         8     2003  ...   \n",
              "4  10/10/2003 0:00  Shipped       4        10     2003  ...   \n",
              "\n",
              "                    ADDRESSLINE1  ADDRESSLINE2           CITY STATE  \\\n",
              "0        897 Long Airport Avenue           NaN            NYC    NY   \n",
              "1             59 rue de l'Abbaye           NaN          Reims   NaN   \n",
              "2  27 rue du Colonel Pierre Avia           NaN          Paris   NaN   \n",
              "3             78934 Hillside Dr.           NaN       Pasadena    CA   \n",
              "4                7734 Strong St.           NaN  San Francisco    CA   \n",
              "\n",
              "  POSTALCODE COUNTRY TERRITORY CONTACTLASTNAME CONTACTFIRSTNAME DEALSIZE  \n",
              "0      10022     USA       NaN              Yu             Kwai    Small  \n",
              "1      51100  France      EMEA         Henriot             Paul    Small  \n",
              "2      75508  France      EMEA        Da Cunha           Daniel   Medium  \n",
              "3      90003     USA       NaN           Young            Julie   Medium  \n",
              "4        NaN     USA       NaN           Brown            Julie   Medium  \n",
              "\n",
              "[5 rows x 25 columns]"
            ],
            "text/html": [
              "\n",
              "  <div id=\"df-580b91a9-3574-4519-b4c6-a13951cc3a7c\" class=\"colab-df-container\">\n",
              "    <div>\n",
              "<style scoped>\n",
              "    .dataframe tbody tr th:only-of-type {\n",
              "        vertical-align: middle;\n",
              "    }\n",
              "\n",
              "    .dataframe tbody tr th {\n",
              "        vertical-align: top;\n",
              "    }\n",
              "\n",
              "    .dataframe thead th {\n",
              "        text-align: right;\n",
              "    }\n",
              "</style>\n",
              "<table border=\"1\" class=\"dataframe\">\n",
              "  <thead>\n",
              "    <tr style=\"text-align: right;\">\n",
              "      <th></th>\n",
              "      <th>ORDERNUMBER</th>\n",
              "      <th>QUANTITYORDERED</th>\n",
              "      <th>PRICEEACH</th>\n",
              "      <th>ORDERLINENUMBER</th>\n",
              "      <th>SALES</th>\n",
              "      <th>ORDERDATE</th>\n",
              "      <th>STATUS</th>\n",
              "      <th>QTR_ID</th>\n",
              "      <th>MONTH_ID</th>\n",
              "      <th>YEAR_ID</th>\n",
              "      <th>...</th>\n",
              "      <th>ADDRESSLINE1</th>\n",
              "      <th>ADDRESSLINE2</th>\n",
              "      <th>CITY</th>\n",
              "      <th>STATE</th>\n",
              "      <th>POSTALCODE</th>\n",
              "      <th>COUNTRY</th>\n",
              "      <th>TERRITORY</th>\n",
              "      <th>CONTACTLASTNAME</th>\n",
              "      <th>CONTACTFIRSTNAME</th>\n",
              "      <th>DEALSIZE</th>\n",
              "    </tr>\n",
              "  </thead>\n",
              "  <tbody>\n",
              "    <tr>\n",
              "      <th>0</th>\n",
              "      <td>10107</td>\n",
              "      <td>30</td>\n",
              "      <td>95.70</td>\n",
              "      <td>2</td>\n",
              "      <td>2871.00</td>\n",
              "      <td>2/24/2003 0:00</td>\n",
              "      <td>Shipped</td>\n",
              "      <td>1</td>\n",
              "      <td>2</td>\n",
              "      <td>2003</td>\n",
              "      <td>...</td>\n",
              "      <td>897 Long Airport Avenue</td>\n",
              "      <td>NaN</td>\n",
              "      <td>NYC</td>\n",
              "      <td>NY</td>\n",
              "      <td>10022</td>\n",
              "      <td>USA</td>\n",
              "      <td>NaN</td>\n",
              "      <td>Yu</td>\n",
              "      <td>Kwai</td>\n",
              "      <td>Small</td>\n",
              "    </tr>\n",
              "    <tr>\n",
              "      <th>1</th>\n",
              "      <td>10121</td>\n",
              "      <td>34</td>\n",
              "      <td>81.35</td>\n",
              "      <td>5</td>\n",
              "      <td>2765.90</td>\n",
              "      <td>5/7/2003 0:00</td>\n",
              "      <td>Shipped</td>\n",
              "      <td>2</td>\n",
              "      <td>5</td>\n",
              "      <td>2003</td>\n",
              "      <td>...</td>\n",
              "      <td>59 rue de l'Abbaye</td>\n",
              "      <td>NaN</td>\n",
              "      <td>Reims</td>\n",
              "      <td>NaN</td>\n",
              "      <td>51100</td>\n",
              "      <td>France</td>\n",
              "      <td>EMEA</td>\n",
              "      <td>Henriot</td>\n",
              "      <td>Paul</td>\n",
              "      <td>Small</td>\n",
              "    </tr>\n",
              "    <tr>\n",
              "      <th>2</th>\n",
              "      <td>10134</td>\n",
              "      <td>41</td>\n",
              "      <td>94.74</td>\n",
              "      <td>2</td>\n",
              "      <td>3884.34</td>\n",
              "      <td>7/1/2003 0:00</td>\n",
              "      <td>Shipped</td>\n",
              "      <td>3</td>\n",
              "      <td>7</td>\n",
              "      <td>2003</td>\n",
              "      <td>...</td>\n",
              "      <td>27 rue du Colonel Pierre Avia</td>\n",
              "      <td>NaN</td>\n",
              "      <td>Paris</td>\n",
              "      <td>NaN</td>\n",
              "      <td>75508</td>\n",
              "      <td>France</td>\n",
              "      <td>EMEA</td>\n",
              "      <td>Da Cunha</td>\n",
              "      <td>Daniel</td>\n",
              "      <td>Medium</td>\n",
              "    </tr>\n",
              "    <tr>\n",
              "      <th>3</th>\n",
              "      <td>10145</td>\n",
              "      <td>45</td>\n",
              "      <td>83.26</td>\n",
              "      <td>6</td>\n",
              "      <td>3746.70</td>\n",
              "      <td>8/25/2003 0:00</td>\n",
              "      <td>Shipped</td>\n",
              "      <td>3</td>\n",
              "      <td>8</td>\n",
              "      <td>2003</td>\n",
              "      <td>...</td>\n",
              "      <td>78934 Hillside Dr.</td>\n",
              "      <td>NaN</td>\n",
              "      <td>Pasadena</td>\n",
              "      <td>CA</td>\n",
              "      <td>90003</td>\n",
              "      <td>USA</td>\n",
              "      <td>NaN</td>\n",
              "      <td>Young</td>\n",
              "      <td>Julie</td>\n",
              "      <td>Medium</td>\n",
              "    </tr>\n",
              "    <tr>\n",
              "      <th>4</th>\n",
              "      <td>10159</td>\n",
              "      <td>49</td>\n",
              "      <td>100.00</td>\n",
              "      <td>14</td>\n",
              "      <td>5205.27</td>\n",
              "      <td>10/10/2003 0:00</td>\n",
              "      <td>Shipped</td>\n",
              "      <td>4</td>\n",
              "      <td>10</td>\n",
              "      <td>2003</td>\n",
              "      <td>...</td>\n",
              "      <td>7734 Strong St.</td>\n",
              "      <td>NaN</td>\n",
              "      <td>San Francisco</td>\n",
              "      <td>CA</td>\n",
              "      <td>NaN</td>\n",
              "      <td>USA</td>\n",
              "      <td>NaN</td>\n",
              "      <td>Brown</td>\n",
              "      <td>Julie</td>\n",
              "      <td>Medium</td>\n",
              "    </tr>\n",
              "  </tbody>\n",
              "</table>\n",
              "<p>5 rows × 25 columns</p>\n",
              "</div>\n",
              "    <div class=\"colab-df-buttons\">\n",
              "\n",
              "  <div class=\"colab-df-container\">\n",
              "    <button class=\"colab-df-convert\" onclick=\"convertToInteractive('df-580b91a9-3574-4519-b4c6-a13951cc3a7c')\"\n",
              "            title=\"Convert this dataframe to an interactive table.\"\n",
              "            style=\"display:none;\">\n",
              "\n",
              "  <svg xmlns=\"http://www.w3.org/2000/svg\" height=\"24px\" viewBox=\"0 -960 960 960\">\n",
              "    <path d=\"M120-120v-720h720v720H120Zm60-500h600v-160H180v160Zm220 220h160v-160H400v160Zm0 220h160v-160H400v160ZM180-400h160v-160H180v160Zm440 0h160v-160H620v160ZM180-180h160v-160H180v160Zm440 0h160v-160H620v160Z\"/>\n",
              "  </svg>\n",
              "    </button>\n",
              "\n",
              "  <style>\n",
              "    .colab-df-container {\n",
              "      display:flex;\n",
              "      gap: 12px;\n",
              "    }\n",
              "\n",
              "    .colab-df-convert {\n",
              "      background-color: #E8F0FE;\n",
              "      border: none;\n",
              "      border-radius: 50%;\n",
              "      cursor: pointer;\n",
              "      display: none;\n",
              "      fill: #1967D2;\n",
              "      height: 32px;\n",
              "      padding: 0 0 0 0;\n",
              "      width: 32px;\n",
              "    }\n",
              "\n",
              "    .colab-df-convert:hover {\n",
              "      background-color: #E2EBFA;\n",
              "      box-shadow: 0px 1px 2px rgba(60, 64, 67, 0.3), 0px 1px 3px 1px rgba(60, 64, 67, 0.15);\n",
              "      fill: #174EA6;\n",
              "    }\n",
              "\n",
              "    .colab-df-buttons div {\n",
              "      margin-bottom: 4px;\n",
              "    }\n",
              "\n",
              "    [theme=dark] .colab-df-convert {\n",
              "      background-color: #3B4455;\n",
              "      fill: #D2E3FC;\n",
              "    }\n",
              "\n",
              "    [theme=dark] .colab-df-convert:hover {\n",
              "      background-color: #434B5C;\n",
              "      box-shadow: 0px 1px 3px 1px rgba(0, 0, 0, 0.15);\n",
              "      filter: drop-shadow(0px 1px 2px rgba(0, 0, 0, 0.3));\n",
              "      fill: #FFFFFF;\n",
              "    }\n",
              "  </style>\n",
              "\n",
              "    <script>\n",
              "      const buttonEl =\n",
              "        document.querySelector('#df-580b91a9-3574-4519-b4c6-a13951cc3a7c button.colab-df-convert');\n",
              "      buttonEl.style.display =\n",
              "        google.colab.kernel.accessAllowed ? 'block' : 'none';\n",
              "\n",
              "      async function convertToInteractive(key) {\n",
              "        const element = document.querySelector('#df-580b91a9-3574-4519-b4c6-a13951cc3a7c');\n",
              "        const dataTable =\n",
              "          await google.colab.kernel.invokeFunction('convertToInteractive',\n",
              "                                                    [key], {});\n",
              "        if (!dataTable) return;\n",
              "\n",
              "        const docLinkHtml = 'Like what you see? Visit the ' +\n",
              "          '<a target=\"_blank\" href=https://colab.research.google.com/notebooks/data_table.ipynb>data table notebook</a>'\n",
              "          + ' to learn more about interactive tables.';\n",
              "        element.innerHTML = '';\n",
              "        dataTable['output_type'] = 'display_data';\n",
              "        await google.colab.output.renderOutput(dataTable, element);\n",
              "        const docLink = document.createElement('div');\n",
              "        docLink.innerHTML = docLinkHtml;\n",
              "        element.appendChild(docLink);\n",
              "      }\n",
              "    </script>\n",
              "  </div>\n",
              "\n",
              "\n",
              "<div id=\"df-f780a74d-c798-42e3-87be-14bbd6f29893\">\n",
              "  <button class=\"colab-df-quickchart\" onclick=\"quickchart('df-f780a74d-c798-42e3-87be-14bbd6f29893')\"\n",
              "            title=\"Suggest charts\"\n",
              "            style=\"display:none;\">\n",
              "\n",
              "<svg xmlns=\"http://www.w3.org/2000/svg\" height=\"24px\"viewBox=\"0 0 24 24\"\n",
              "     width=\"24px\">\n",
              "    <g>\n",
              "        <path d=\"M19 3H5c-1.1 0-2 .9-2 2v14c0 1.1.9 2 2 2h14c1.1 0 2-.9 2-2V5c0-1.1-.9-2-2-2zM9 17H7v-7h2v7zm4 0h-2V7h2v10zm4 0h-2v-4h2v4z\"/>\n",
              "    </g>\n",
              "</svg>\n",
              "  </button>\n",
              "\n",
              "<style>\n",
              "  .colab-df-quickchart {\n",
              "      --bg-color: #E8F0FE;\n",
              "      --fill-color: #1967D2;\n",
              "      --hover-bg-color: #E2EBFA;\n",
              "      --hover-fill-color: #174EA6;\n",
              "      --disabled-fill-color: #AAA;\n",
              "      --disabled-bg-color: #DDD;\n",
              "  }\n",
              "\n",
              "  [theme=dark] .colab-df-quickchart {\n",
              "      --bg-color: #3B4455;\n",
              "      --fill-color: #D2E3FC;\n",
              "      --hover-bg-color: #434B5C;\n",
              "      --hover-fill-color: #FFFFFF;\n",
              "      --disabled-bg-color: #3B4455;\n",
              "      --disabled-fill-color: #666;\n",
              "  }\n",
              "\n",
              "  .colab-df-quickchart {\n",
              "    background-color: var(--bg-color);\n",
              "    border: none;\n",
              "    border-radius: 50%;\n",
              "    cursor: pointer;\n",
              "    display: none;\n",
              "    fill: var(--fill-color);\n",
              "    height: 32px;\n",
              "    padding: 0;\n",
              "    width: 32px;\n",
              "  }\n",
              "\n",
              "  .colab-df-quickchart:hover {\n",
              "    background-color: var(--hover-bg-color);\n",
              "    box-shadow: 0 1px 2px rgba(60, 64, 67, 0.3), 0 1px 3px 1px rgba(60, 64, 67, 0.15);\n",
              "    fill: var(--button-hover-fill-color);\n",
              "  }\n",
              "\n",
              "  .colab-df-quickchart-complete:disabled,\n",
              "  .colab-df-quickchart-complete:disabled:hover {\n",
              "    background-color: var(--disabled-bg-color);\n",
              "    fill: var(--disabled-fill-color);\n",
              "    box-shadow: none;\n",
              "  }\n",
              "\n",
              "  .colab-df-spinner {\n",
              "    border: 2px solid var(--fill-color);\n",
              "    border-color: transparent;\n",
              "    border-bottom-color: var(--fill-color);\n",
              "    animation:\n",
              "      spin 1s steps(1) infinite;\n",
              "  }\n",
              "\n",
              "  @keyframes spin {\n",
              "    0% {\n",
              "      border-color: transparent;\n",
              "      border-bottom-color: var(--fill-color);\n",
              "      border-left-color: var(--fill-color);\n",
              "    }\n",
              "    20% {\n",
              "      border-color: transparent;\n",
              "      border-left-color: var(--fill-color);\n",
              "      border-top-color: var(--fill-color);\n",
              "    }\n",
              "    30% {\n",
              "      border-color: transparent;\n",
              "      border-left-color: var(--fill-color);\n",
              "      border-top-color: var(--fill-color);\n",
              "      border-right-color: var(--fill-color);\n",
              "    }\n",
              "    40% {\n",
              "      border-color: transparent;\n",
              "      border-right-color: var(--fill-color);\n",
              "      border-top-color: var(--fill-color);\n",
              "    }\n",
              "    60% {\n",
              "      border-color: transparent;\n",
              "      border-right-color: var(--fill-color);\n",
              "    }\n",
              "    80% {\n",
              "      border-color: transparent;\n",
              "      border-right-color: var(--fill-color);\n",
              "      border-bottom-color: var(--fill-color);\n",
              "    }\n",
              "    90% {\n",
              "      border-color: transparent;\n",
              "      border-bottom-color: var(--fill-color);\n",
              "    }\n",
              "  }\n",
              "</style>\n",
              "\n",
              "  <script>\n",
              "    async function quickchart(key) {\n",
              "      const quickchartButtonEl =\n",
              "        document.querySelector('#' + key + ' button');\n",
              "      quickchartButtonEl.disabled = true;  // To prevent multiple clicks.\n",
              "      quickchartButtonEl.classList.add('colab-df-spinner');\n",
              "      try {\n",
              "        const charts = await google.colab.kernel.invokeFunction(\n",
              "            'suggestCharts', [key], {});\n",
              "      } catch (error) {\n",
              "        console.error('Error during call to suggestCharts:', error);\n",
              "      }\n",
              "      quickchartButtonEl.classList.remove('colab-df-spinner');\n",
              "      quickchartButtonEl.classList.add('colab-df-quickchart-complete');\n",
              "    }\n",
              "    (() => {\n",
              "      let quickchartButtonEl =\n",
              "        document.querySelector('#df-f780a74d-c798-42e3-87be-14bbd6f29893 button');\n",
              "      quickchartButtonEl.style.display =\n",
              "        google.colab.kernel.accessAllowed ? 'block' : 'none';\n",
              "    })();\n",
              "  </script>\n",
              "</div>\n",
              "\n",
              "    </div>\n",
              "  </div>\n"
            ],
            "application/vnd.google.colaboratory.intrinsic+json": {
              "type": "dataframe",
              "variable_name": "sales_data"
            }
          },
          "metadata": {},
          "execution_count": 3
        }
      ],
      "execution_count": 3
    },
    {
      "cell_type": "code",
      "source": [
        "df = sales_data\n",
        "# df.shape\n",
        "print(f\"The dataset contains {df.shape[0]} rows and {df.shape[1]} columns.\")"
      ],
      "metadata": {
        "trusted": true,
        "execution": {
          "iopub.status.busy": "2025-02-05T15:21:24.238302Z",
          "iopub.execute_input": "2025-02-05T15:21:24.238665Z",
          "iopub.status.idle": "2025-02-05T15:21:24.244131Z",
          "shell.execute_reply.started": "2025-02-05T15:21:24.238627Z",
          "shell.execute_reply": "2025-02-05T15:21:24.243082Z"
        },
        "id": "QjOzE-cJ9O1h"
      },
      "outputs": [],
      "execution_count": null
    },
    {
      "cell_type": "markdown",
      "source": [
        "Checking for null values"
      ],
      "metadata": {
        "id": "icJJdai_9O1i"
      }
    },
    {
      "cell_type": "code",
      "source": [
        "df.isnull().sum()"
      ],
      "metadata": {
        "trusted": true,
        "execution": {
          "iopub.status.busy": "2025-02-05T15:21:24.24518Z",
          "iopub.execute_input": "2025-02-05T15:21:24.245514Z",
          "iopub.status.idle": "2025-02-05T15:21:24.27069Z",
          "shell.execute_reply.started": "2025-02-05T15:21:24.245488Z",
          "shell.execute_reply": "2025-02-05T15:21:24.269562Z"
        },
        "id": "xz0_EFO99O1i"
      },
      "outputs": [],
      "execution_count": null
    },
    {
      "cell_type": "markdown",
      "source": [
        "Checking for the number of duplicates"
      ],
      "metadata": {
        "execution": {
          "iopub.status.busy": "2025-02-04T17:01:27.269771Z",
          "iopub.execute_input": "2025-02-04T17:01:27.27015Z",
          "iopub.status.idle": "2025-02-04T17:01:27.277013Z",
          "shell.execute_reply.started": "2025-02-04T17:01:27.270124Z",
          "shell.execute_reply": "2025-02-04T17:01:27.27541Z"
        },
        "id": "aV6Za00T9O1j"
      }
    },
    {
      "cell_type": "code",
      "source": [
        "print(f\"The number of diplicates in the dataset is {df.duplicated().sum()}.\")"
      ],
      "metadata": {
        "trusted": true,
        "execution": {
          "iopub.status.busy": "2025-02-05T15:21:24.271736Z",
          "iopub.execute_input": "2025-02-05T15:21:24.272348Z",
          "iopub.status.idle": "2025-02-05T15:21:24.29176Z",
          "shell.execute_reply.started": "2025-02-05T15:21:24.272318Z",
          "shell.execute_reply": "2025-02-05T15:21:24.290709Z"
        },
        "id": "UfW21KKD9O1k"
      },
      "outputs": [],
      "execution_count": null
    },
    {
      "cell_type": "markdown",
      "source": [
        "Summary statistics"
      ],
      "metadata": {
        "id": "A6yPX6u-9O1l"
      }
    },
    {
      "cell_type": "code",
      "source": [
        "df.describe()"
      ],
      "metadata": {
        "trusted": true,
        "execution": {
          "iopub.status.busy": "2025-02-05T15:21:24.292901Z",
          "iopub.execute_input": "2025-02-05T15:21:24.293284Z",
          "iopub.status.idle": "2025-02-05T15:21:24.333524Z",
          "shell.execute_reply.started": "2025-02-05T15:21:24.293256Z",
          "shell.execute_reply": "2025-02-05T15:21:24.332428Z"
        },
        "id": "GXo4E_oq9O1l"
      },
      "outputs": [],
      "execution_count": null
    },
    {
      "cell_type": "code",
      "source": [
        "df.dtypes"
      ],
      "metadata": {
        "trusted": true,
        "execution": {
          "iopub.status.busy": "2025-02-05T15:21:24.334598Z",
          "iopub.execute_input": "2025-02-05T15:21:24.334966Z",
          "iopub.status.idle": "2025-02-05T15:21:24.343986Z",
          "shell.execute_reply.started": "2025-02-05T15:21:24.334912Z",
          "shell.execute_reply": "2025-02-05T15:21:24.342718Z"
        },
        "id": "fMetwzCz9O1l"
      },
      "outputs": [],
      "execution_count": null
    },
    {
      "cell_type": "markdown",
      "source": [
        "Checking for the number of customers and in the dataset"
      ],
      "metadata": {
        "id": "-5ScOpWL9O1m"
      }
    },
    {
      "cell_type": "code",
      "source": [
        "customers = df[\"CUSTOMERNAME\"]\n",
        "customers.head()"
      ],
      "metadata": {
        "trusted": true,
        "execution": {
          "iopub.status.busy": "2025-02-05T15:21:24.347571Z",
          "iopub.execute_input": "2025-02-05T15:21:24.347956Z",
          "iopub.status.idle": "2025-02-05T15:21:24.362164Z",
          "shell.execute_reply.started": "2025-02-05T15:21:24.347901Z",
          "shell.execute_reply": "2025-02-05T15:21:24.361051Z"
        },
        "id": "3OhbFVSi9O1m"
      },
      "outputs": [],
      "execution_count": null
    },
    {
      "cell_type": "code",
      "source": [
        "print(f\"There are {df['CUSTOMERNAME'].nunique()} customers in the dataset\")"
      ],
      "metadata": {
        "trusted": true,
        "execution": {
          "iopub.status.busy": "2025-02-05T15:21:24.363784Z",
          "iopub.execute_input": "2025-02-05T15:21:24.364183Z",
          "iopub.status.idle": "2025-02-05T15:21:24.379678Z",
          "shell.execute_reply.started": "2025-02-05T15:21:24.364139Z",
          "shell.execute_reply": "2025-02-05T15:21:24.378596Z"
        },
        "id": "2SBXMvbJ9O1m"
      },
      "outputs": [],
      "execution_count": null
    },
    {
      "cell_type": "code",
      "source": [
        "print(f\"There are {df['COUNTRY'].nunique()} countries in the dataset\")"
      ],
      "metadata": {
        "trusted": true,
        "execution": {
          "iopub.status.busy": "2025-02-05T15:21:24.380732Z",
          "iopub.execute_input": "2025-02-05T15:21:24.381101Z",
          "iopub.status.idle": "2025-02-05T15:21:24.396151Z",
          "shell.execute_reply.started": "2025-02-05T15:21:24.381061Z",
          "shell.execute_reply": "2025-02-05T15:21:24.395041Z"
        },
        "id": "D_hyJHX89O1m"
      },
      "outputs": [],
      "execution_count": null
    },
    {
      "cell_type": "markdown",
      "source": [
        "Checking the number of customers by country"
      ],
      "metadata": {
        "id": "v1gQBVHx9O1n"
      }
    },
    {
      "cell_type": "code",
      "source": [
        "customers_by_country = df.groupby(\"COUNTRY\")[\"CUSTOMERNAME\"].nunique().reset_index()\n",
        "\n",
        "\n",
        "customers_by_country.columns = [\"Country\", \"Number of Customers\"]\n",
        "\n",
        "\n",
        "print(customers_by_country.sort_values(by=\"Number of Customers\", ascending=False))"
      ],
      "metadata": {
        "trusted": true,
        "execution": {
          "iopub.status.busy": "2025-02-05T15:21:24.397131Z",
          "iopub.execute_input": "2025-02-05T15:21:24.397484Z",
          "iopub.status.idle": "2025-02-05T15:21:24.418715Z",
          "shell.execute_reply.started": "2025-02-05T15:21:24.397459Z",
          "shell.execute_reply": "2025-02-05T15:21:24.417604Z"
        },
        "id": "syDSvDkC9O1n"
      },
      "outputs": [],
      "execution_count": null
    },
    {
      "cell_type": "code",
      "source": [
        "customers_by_country = customers_by_country.sort_values(by=\"Number of Customers\", ascending=False)\n",
        "\n",
        "plt.figure(figsize=(12, 6))\n",
        "sns.barplot(data=customers_by_country, x=\"Country\", y=\"Number of Customers\", palette=\"viridis\")\n",
        "\n",
        "# Customize labels and title\n",
        "plt.xticks(rotation=45, ha=\"right\")\n",
        "plt.xlabel(\"Country\")\n",
        "plt.ylabel(\"Number of Customers\")\n",
        "plt.title(\"Number of Customers by Country\")\n",
        "\n",
        "# Show the plot\n",
        "plt.show()"
      ],
      "metadata": {
        "trusted": true,
        "execution": {
          "iopub.status.busy": "2025-02-05T15:21:24.419837Z",
          "iopub.execute_input": "2025-02-05T15:21:24.420116Z",
          "iopub.status.idle": "2025-02-05T15:21:24.819977Z",
          "shell.execute_reply.started": "2025-02-05T15:21:24.42009Z",
          "shell.execute_reply": "2025-02-05T15:21:24.818916Z"
        },
        "id": "d7KRkMFl9O1n"
      },
      "outputs": [],
      "execution_count": null
    },
    {
      "cell_type": "markdown",
      "source": [
        "Targeting top 10 Customers by Sales"
      ],
      "metadata": {
        "id": "zCm6JRNt9O1n"
      }
    },
    {
      "cell_type": "code",
      "source": [
        "top_10 = df.groupby(\"CUSTOMERNAME\")[\"SALES\"].sum().reset_index()\n",
        "top_10 = top_10.sort_values(by=\"SALES\", ascending=False)\n",
        "top_10 = top_10.head(10)\n",
        "top_10"
      ],
      "metadata": {
        "trusted": true,
        "execution": {
          "iopub.status.busy": "2025-02-05T15:21:24.820986Z",
          "iopub.execute_input": "2025-02-05T15:21:24.821311Z",
          "iopub.status.idle": "2025-02-05T15:21:24.837157Z",
          "shell.execute_reply.started": "2025-02-05T15:21:24.821286Z",
          "shell.execute_reply": "2025-02-05T15:21:24.836147Z"
        },
        "id": "okDS9Ki59O1o"
      },
      "outputs": [],
      "execution_count": null
    },
    {
      "cell_type": "code",
      "source": [
        "plt.figure(figsize=(12,6))\n",
        "sns.barplot(data=top_10, x=\"SALES\", y=\"CUSTOMERNAME\", palette=\"magma\")\n",
        "\n",
        "\n",
        "plt.xlabel(\"Total Sales\")\n",
        "plt.ylabel(\"Customer Name\")\n",
        "plt.title(\"Top 10 Customers by Sales\")\n",
        "# plt.gca().invert_yaxis()\n",
        "\n",
        "\n",
        "plt.show()"
      ],
      "metadata": {
        "trusted": true,
        "execution": {
          "iopub.status.busy": "2025-02-05T15:21:24.838134Z",
          "iopub.execute_input": "2025-02-05T15:21:24.838495Z",
          "iopub.status.idle": "2025-02-05T15:21:25.091545Z",
          "shell.execute_reply.started": "2025-02-05T15:21:24.838455Z",
          "shell.execute_reply": "2025-02-05T15:21:25.090457Z"
        },
        "id": "OGstwc429O1o"
      },
      "outputs": [],
      "execution_count": null
    },
    {
      "cell_type": "markdown",
      "source": [
        "Sales by Country"
      ],
      "metadata": {
        "id": "5zTknTdW9O1o"
      }
    },
    {
      "cell_type": "code",
      "source": [
        "country_sales = df.groupby(\"COUNTRY\")['SALES'].sum().reset_index()\n",
        "country_sales = country_sales.sort_values(by=\"SALES\", ascending=False)\n",
        "country_sales = country_sales.head(10)\n",
        "country_sales"
      ],
      "metadata": {
        "trusted": true,
        "execution": {
          "iopub.status.busy": "2025-02-05T15:21:25.092514Z",
          "iopub.execute_input": "2025-02-05T15:21:25.092834Z",
          "iopub.status.idle": "2025-02-05T15:21:25.109812Z",
          "shell.execute_reply.started": "2025-02-05T15:21:25.092808Z",
          "shell.execute_reply": "2025-02-05T15:21:25.108781Z"
        },
        "id": "sss6NbVJ9O1o"
      },
      "outputs": [],
      "execution_count": null
    },
    {
      "cell_type": "code",
      "source": [
        "plt.figure(figsize=(12,6))\n",
        "sns.barplot(data=country_sales, x='SALES', y='COUNTRY', palette='coolwarm')\n",
        "\n",
        "plt.xlabel(\"Total Sales\")\n",
        "plt.ylabel(\"Country\")\n",
        "plt.title(\"Top 10 Countries by Sales\")\n",
        "\n",
        "\n",
        "plt.show()"
      ],
      "metadata": {
        "trusted": true,
        "execution": {
          "iopub.status.busy": "2025-02-05T15:21:25.110696Z",
          "iopub.execute_input": "2025-02-05T15:21:25.110997Z",
          "iopub.status.idle": "2025-02-05T15:21:25.36611Z",
          "shell.execute_reply.started": "2025-02-05T15:21:25.110967Z",
          "shell.execute_reply": "2025-02-05T15:21:25.365112Z"
        },
        "id": "3BHm4Uk39O1p"
      },
      "outputs": [],
      "execution_count": null
    },
    {
      "cell_type": "markdown",
      "source": [
        "Sales by Year, Quarter and Month"
      ],
      "metadata": {
        "id": "IMJmMIzT9O1p"
      }
    },
    {
      "cell_type": "code",
      "source": [
        "df[\"ORDERDATE\"] = pd.to_datetime(df[\"ORDERDATE\"], errors=\"coerce\")"
      ],
      "metadata": {
        "trusted": true,
        "execution": {
          "iopub.status.busy": "2025-02-05T16:19:45.299133Z",
          "iopub.execute_input": "2025-02-05T16:19:45.299535Z",
          "iopub.status.idle": "2025-02-05T16:19:45.30823Z",
          "shell.execute_reply.started": "2025-02-05T16:19:45.299504Z",
          "shell.execute_reply": "2025-02-05T16:19:45.307195Z"
        },
        "id": "Ay1i4Vp29O1p"
      },
      "outputs": [],
      "execution_count": null
    },
    {
      "cell_type": "code",
      "source": [
        "df[\"Year\"] = df[\"ORDERDATE\"].dt.year\n",
        "df[\"Quarter\"] = df[\"ORDERDATE\"].dt.quarter\n",
        "df[\"Month\"] = df[\"ORDERDATE\"].dt.month"
      ],
      "metadata": {
        "trusted": true,
        "execution": {
          "iopub.status.busy": "2025-02-05T16:19:51.443639Z",
          "iopub.execute_input": "2025-02-05T16:19:51.444006Z",
          "iopub.status.idle": "2025-02-05T16:19:51.450643Z",
          "shell.execute_reply.started": "2025-02-05T16:19:51.443975Z",
          "shell.execute_reply": "2025-02-05T16:19:51.449604Z"
        },
        "id": "GGV5KNlg9O1q"
      },
      "outputs": [],
      "execution_count": null
    },
    {
      "cell_type": "code",
      "source": [
        "sales_by_year = df.groupby(\"Year\")[\"SALES\"].sum().reset_index()\n",
        "\n",
        "sales_by_quarter = df.groupby([\"Year\", \"Quarter\"])[\"SALES\"].sum().reset_index()\n",
        "\n",
        "\n",
        "sales_by_month = df.groupby([\"Year\", \"Month\"])[\"SALES\"].sum().reset_index()"
      ],
      "metadata": {
        "trusted": true,
        "execution": {
          "iopub.status.busy": "2025-02-05T16:24:19.196998Z",
          "iopub.execute_input": "2025-02-05T16:24:19.197338Z",
          "iopub.status.idle": "2025-02-05T16:24:19.209822Z",
          "shell.execute_reply.started": "2025-02-05T16:24:19.197312Z",
          "shell.execute_reply": "2025-02-05T16:24:19.208859Z"
        },
        "id": "3aTAHEKu9O1q"
      },
      "outputs": [],
      "execution_count": null
    },
    {
      "cell_type": "code",
      "source": [
        "plt.figure(figsize=(10, 5))\n",
        "sns.lineplot(data=sales_by_year, x=\"Year\", y=\"SALES\", marker=\"o\", linewidth=2)\n",
        "plt.xlabel(\"Year\")\n",
        "plt.ylabel(\"Total Sales\")\n",
        "plt.title(\"Total Sales by Year\")\n",
        "plt.show()"
      ],
      "metadata": {
        "trusted": true,
        "execution": {
          "iopub.status.busy": "2025-02-05T16:24:23.975345Z",
          "iopub.execute_input": "2025-02-05T16:24:23.975681Z",
          "iopub.status.idle": "2025-02-05T16:24:24.205398Z",
          "shell.execute_reply.started": "2025-02-05T16:24:23.975652Z",
          "shell.execute_reply": "2025-02-05T16:24:24.204317Z"
        },
        "id": "5OEbiJ4Y9O1q"
      },
      "outputs": [],
      "execution_count": null
    },
    {
      "cell_type": "code",
      "source": [
        "plt.figure(figsize=(12, 6))\n",
        "sns.lineplot(data=sales_by_quarter, x=\"Quarter\", y=\"SALES\", hue=\"Year\", marker=\"o\")\n",
        "plt.xlabel(\"Quarter\")\n",
        "plt.ylabel(\"Total Sales\")\n",
        "plt.title(\"Total Sales by Quarter\")\n",
        "plt.show()"
      ],
      "metadata": {
        "trusted": true,
        "execution": {
          "iopub.status.busy": "2025-02-05T16:24:50.404369Z",
          "iopub.execute_input": "2025-02-05T16:24:50.404676Z",
          "iopub.status.idle": "2025-02-05T16:24:50.704121Z",
          "shell.execute_reply.started": "2025-02-05T16:24:50.404652Z",
          "shell.execute_reply": "2025-02-05T16:24:50.703091Z"
        },
        "id": "ZveJh1wx9O1q"
      },
      "outputs": [],
      "execution_count": null
    },
    {
      "cell_type": "code",
      "source": [
        "plt.figure(figsize=(12, 6))\n",
        "sns.lineplot(data=sales_by_month, x=\"Month\", y=\"SALES\", hue=\"Year\", marker=\"o\")\n",
        "plt.xlabel(\"Month\")\n",
        "plt.ylabel(\"Total Sales\")\n",
        "plt.title(\"Total Sales by Month\")\n",
        "plt.xticks(range(1, 13))  # Ensure x-axis has months 1-12\n",
        "plt.show()"
      ],
      "metadata": {
        "trusted": true,
        "execution": {
          "iopub.status.busy": "2025-02-05T16:28:32.908993Z",
          "iopub.execute_input": "2025-02-05T16:28:32.909339Z",
          "iopub.status.idle": "2025-02-05T16:28:33.193276Z",
          "shell.execute_reply.started": "2025-02-05T16:28:32.909312Z",
          "shell.execute_reply": "2025-02-05T16:28:33.191947Z"
        },
        "id": "H6PfLcfs9O1r"
      },
      "outputs": [],
      "execution_count": null
    },
    {
      "cell_type": "code",
      "source": [],
      "metadata": {
        "trusted": true,
        "id": "uWe_I0xH9O1r"
      },
      "outputs": [],
      "execution_count": null
    }
  ]
}