{
  "metadata": {
    "kernelspec": {
      "language": "python",
      "display_name": "Python 3",
      "name": "python3"
    },
    "language_info": {
      "name": "python",
      "version": "3.10.12",
      "mimetype": "text/x-python",
      "codemirror_mode": {
        "name": "ipython",
        "version": 3
      },
      "pygments_lexer": "ipython3",
      "nbconvert_exporter": "python",
      "file_extension": ".py"
    },
    "kaggle": {
      "accelerator": "none",
      "dataSources": [
        {
          "sourceId": 896,
          "sourceType": "datasetVersion",
          "datasetId": 435
        }
      ],
      "dockerImageVersionId": 30839,
      "isInternetEnabled": true,
      "language": "python",
      "sourceType": "notebook",
      "isGpuEnabled": false
    },
    "colab": {
      "name": "Sales Analysis",
      "provenance": [],
      "include_colab_link": true
    }
  },
  "nbformat_minor": 0,
  "nbformat": 4,
  "cells": [
    {
      "cell_type": "markdown",
      "metadata": {
        "id": "view-in-github",
        "colab_type": "text"
      },
      "source": [
        "<a href=\"https://colab.research.google.com/github/abhinavr9162/analysis-sales-data/blob/main/Sales_Analysis.ipynb\" target=\"_parent\"><img src=\"https://colab.research.google.com/assets/colab-badge.svg\" alt=\"Open In Colab\"/></a>"
      ]
    },
    {
      "cell_type": "markdown",
      "source": [
        "Reading and Exploring the Data"
      ],
      "metadata": {
        "id": "yvhADbUA9O1c"
      }
    },
    {
      "cell_type": "code",
      "source": [
        "import pandas as pd\n",
        "import matplotlib.pyplot as plt\n",
        "import seaborn as sns\n",
        "\n",
        "\n",
        "import warnings\n",
        "warnings.filterwarnings(\"ignore\", category=FutureWarning)"
      ],
      "metadata": {
        "trusted": true,
        "execution": {
          "iopub.status.busy": "2025-02-05T16:10:10.454194Z",
          "iopub.execute_input": "2025-02-05T16:10:10.454575Z",
          "iopub.status.idle": "2025-02-05T16:10:10.459124Z",
          "shell.execute_reply.started": "2025-02-05T16:10:10.454546Z",
          "shell.execute_reply": "2025-02-05T16:10:10.45792Z"
        },
        "id": "BvaGLztv9O1e"
      },
      "outputs": [],
      "execution_count": null
    },
    {
      "cell_type": "code",
      "source": [
        "sales_data = pd.read_csv('/kaggle/input/sample-sales-data/sales_data_sample.csv', encoding='latin1')"
      ],
      "metadata": {
        "trusted": true,
        "execution": {
          "iopub.status.busy": "2025-02-05T15:21:24.135242Z",
          "iopub.execute_input": "2025-02-05T15:21:24.135656Z",
          "iopub.status.idle": "2025-02-05T15:21:24.195036Z",
          "shell.execute_reply.started": "2025-02-05T15:21:24.135629Z",
          "shell.execute_reply": "2025-02-05T15:21:24.19401Z"
        },
        "id": "lOUeEUFW9O1f"
      },
      "outputs": [],
      "execution_count": null
    },
    {
      "cell_type": "code",
      "source": [
        "sales_data.head()"
      ],
      "metadata": {
        "trusted": true,
        "execution": {
          "iopub.status.busy": "2025-02-05T15:21:24.196782Z",
          "iopub.execute_input": "2025-02-05T15:21:24.197078Z",
          "iopub.status.idle": "2025-02-05T15:21:24.236471Z",
          "shell.execute_reply.started": "2025-02-05T15:21:24.197054Z",
          "shell.execute_reply": "2025-02-05T15:21:24.235507Z"
        },
        "id": "ouBACKV19O1g"
      },
      "outputs": [],
      "execution_count": null
    },
    {
      "cell_type": "code",
      "source": [
        "df = sales_data\n",
        "# df.shape\n",
        "print(f\"The dataset contains {df.shape[0]} rows and {df.shape[1]} columns.\")"
      ],
      "metadata": {
        "trusted": true,
        "execution": {
          "iopub.status.busy": "2025-02-05T15:21:24.238302Z",
          "iopub.execute_input": "2025-02-05T15:21:24.238665Z",
          "iopub.status.idle": "2025-02-05T15:21:24.244131Z",
          "shell.execute_reply.started": "2025-02-05T15:21:24.238627Z",
          "shell.execute_reply": "2025-02-05T15:21:24.243082Z"
        },
        "id": "QjOzE-cJ9O1h"
      },
      "outputs": [],
      "execution_count": null
    },
    {
      "cell_type": "markdown",
      "source": [
        "Checking for null values"
      ],
      "metadata": {
        "id": "icJJdai_9O1i"
      }
    },
    {
      "cell_type": "code",
      "source": [
        "df.isnull().sum()"
      ],
      "metadata": {
        "trusted": true,
        "execution": {
          "iopub.status.busy": "2025-02-05T15:21:24.24518Z",
          "iopub.execute_input": "2025-02-05T15:21:24.245514Z",
          "iopub.status.idle": "2025-02-05T15:21:24.27069Z",
          "shell.execute_reply.started": "2025-02-05T15:21:24.245488Z",
          "shell.execute_reply": "2025-02-05T15:21:24.269562Z"
        },
        "id": "xz0_EFO99O1i"
      },
      "outputs": [],
      "execution_count": null
    },
    {
      "cell_type": "markdown",
      "source": [
        "Checking for the number of duplicates"
      ],
      "metadata": {
        "execution": {
          "iopub.status.busy": "2025-02-04T17:01:27.269771Z",
          "iopub.execute_input": "2025-02-04T17:01:27.27015Z",
          "iopub.status.idle": "2025-02-04T17:01:27.277013Z",
          "shell.execute_reply.started": "2025-02-04T17:01:27.270124Z",
          "shell.execute_reply": "2025-02-04T17:01:27.27541Z"
        },
        "id": "aV6Za00T9O1j"
      }
    },
    {
      "cell_type": "code",
      "source": [
        "print(f\"The number of diplicates in the dataset is {df.duplicated().sum()}.\")"
      ],
      "metadata": {
        "trusted": true,
        "execution": {
          "iopub.status.busy": "2025-02-05T15:21:24.271736Z",
          "iopub.execute_input": "2025-02-05T15:21:24.272348Z",
          "iopub.status.idle": "2025-02-05T15:21:24.29176Z",
          "shell.execute_reply.started": "2025-02-05T15:21:24.272318Z",
          "shell.execute_reply": "2025-02-05T15:21:24.290709Z"
        },
        "id": "UfW21KKD9O1k"
      },
      "outputs": [],
      "execution_count": null
    },
    {
      "cell_type": "markdown",
      "source": [
        "Summary statistics"
      ],
      "metadata": {
        "id": "A6yPX6u-9O1l"
      }
    },
    {
      "cell_type": "code",
      "source": [
        "df.describe()"
      ],
      "metadata": {
        "trusted": true,
        "execution": {
          "iopub.status.busy": "2025-02-05T15:21:24.292901Z",
          "iopub.execute_input": "2025-02-05T15:21:24.293284Z",
          "iopub.status.idle": "2025-02-05T15:21:24.333524Z",
          "shell.execute_reply.started": "2025-02-05T15:21:24.293256Z",
          "shell.execute_reply": "2025-02-05T15:21:24.332428Z"
        },
        "id": "GXo4E_oq9O1l"
      },
      "outputs": [],
      "execution_count": null
    },
    {
      "cell_type": "code",
      "source": [
        "df.dtypes"
      ],
      "metadata": {
        "trusted": true,
        "execution": {
          "iopub.status.busy": "2025-02-05T15:21:24.334598Z",
          "iopub.execute_input": "2025-02-05T15:21:24.334966Z",
          "iopub.status.idle": "2025-02-05T15:21:24.343986Z",
          "shell.execute_reply.started": "2025-02-05T15:21:24.334912Z",
          "shell.execute_reply": "2025-02-05T15:21:24.342718Z"
        },
        "id": "fMetwzCz9O1l"
      },
      "outputs": [],
      "execution_count": null
    },
    {
      "cell_type": "markdown",
      "source": [
        "Checking for the number of customers and in the dataset"
      ],
      "metadata": {
        "id": "-5ScOpWL9O1m"
      }
    },
    {
      "cell_type": "code",
      "source": [
        "customers = df[\"CUSTOMERNAME\"]\n",
        "customers.head()"
      ],
      "metadata": {
        "trusted": true,
        "execution": {
          "iopub.status.busy": "2025-02-05T15:21:24.347571Z",
          "iopub.execute_input": "2025-02-05T15:21:24.347956Z",
          "iopub.status.idle": "2025-02-05T15:21:24.362164Z",
          "shell.execute_reply.started": "2025-02-05T15:21:24.347901Z",
          "shell.execute_reply": "2025-02-05T15:21:24.361051Z"
        },
        "id": "3OhbFVSi9O1m"
      },
      "outputs": [],
      "execution_count": null
    },
    {
      "cell_type": "code",
      "source": [
        "print(f\"There are {df['CUSTOMERNAME'].nunique()} customers in the dataset\")"
      ],
      "metadata": {
        "trusted": true,
        "execution": {
          "iopub.status.busy": "2025-02-05T15:21:24.363784Z",
          "iopub.execute_input": "2025-02-05T15:21:24.364183Z",
          "iopub.status.idle": "2025-02-05T15:21:24.379678Z",
          "shell.execute_reply.started": "2025-02-05T15:21:24.364139Z",
          "shell.execute_reply": "2025-02-05T15:21:24.378596Z"
        },
        "id": "2SBXMvbJ9O1m"
      },
      "outputs": [],
      "execution_count": null
    },
    {
      "cell_type": "code",
      "source": [
        "print(f\"There are {df['COUNTRY'].nunique()} countries in the dataset\")"
      ],
      "metadata": {
        "trusted": true,
        "execution": {
          "iopub.status.busy": "2025-02-05T15:21:24.380732Z",
          "iopub.execute_input": "2025-02-05T15:21:24.381101Z",
          "iopub.status.idle": "2025-02-05T15:21:24.396151Z",
          "shell.execute_reply.started": "2025-02-05T15:21:24.381061Z",
          "shell.execute_reply": "2025-02-05T15:21:24.395041Z"
        },
        "id": "D_hyJHX89O1m"
      },
      "outputs": [],
      "execution_count": null
    },
    {
      "cell_type": "markdown",
      "source": [
        "Checking the number of customers by country"
      ],
      "metadata": {
        "id": "v1gQBVHx9O1n"
      }
    },
    {
      "cell_type": "code",
      "source": [
        "customers_by_country = df.groupby(\"COUNTRY\")[\"CUSTOMERNAME\"].nunique().reset_index()\n",
        "\n",
        "\n",
        "customers_by_country.columns = [\"Country\", \"Number of Customers\"]\n",
        "\n",
        "\n",
        "print(customers_by_country.sort_values(by=\"Number of Customers\", ascending=False))"
      ],
      "metadata": {
        "trusted": true,
        "execution": {
          "iopub.status.busy": "2025-02-05T15:21:24.397131Z",
          "iopub.execute_input": "2025-02-05T15:21:24.397484Z",
          "iopub.status.idle": "2025-02-05T15:21:24.418715Z",
          "shell.execute_reply.started": "2025-02-05T15:21:24.397459Z",
          "shell.execute_reply": "2025-02-05T15:21:24.417604Z"
        },
        "id": "syDSvDkC9O1n"
      },
      "outputs": [],
      "execution_count": null
    },
    {
      "cell_type": "code",
      "source": [
        "customers_by_country = customers_by_country.sort_values(by=\"Number of Customers\", ascending=False)\n",
        "\n",
        "plt.figure(figsize=(12, 6))\n",
        "sns.barplot(data=customers_by_country, x=\"Country\", y=\"Number of Customers\", palette=\"viridis\")\n",
        "\n",
        "# Customize labels and title\n",
        "plt.xticks(rotation=45, ha=\"right\")\n",
        "plt.xlabel(\"Country\")\n",
        "plt.ylabel(\"Number of Customers\")\n",
        "plt.title(\"Number of Customers by Country\")\n",
        "\n",
        "# Show the plot\n",
        "plt.show()"
      ],
      "metadata": {
        "trusted": true,
        "execution": {
          "iopub.status.busy": "2025-02-05T15:21:24.419837Z",
          "iopub.execute_input": "2025-02-05T15:21:24.420116Z",
          "iopub.status.idle": "2025-02-05T15:21:24.819977Z",
          "shell.execute_reply.started": "2025-02-05T15:21:24.42009Z",
          "shell.execute_reply": "2025-02-05T15:21:24.818916Z"
        },
        "id": "d7KRkMFl9O1n"
      },
      "outputs": [],
      "execution_count": null
    },
    {
      "cell_type": "markdown",
      "source": [
        "Targeting top 10 Customers by Sales"
      ],
      "metadata": {
        "id": "zCm6JRNt9O1n"
      }
    },
    {
      "cell_type": "code",
      "source": [
        "top_10 = df.groupby(\"CUSTOMERNAME\")[\"SALES\"].sum().reset_index()\n",
        "top_10 = top_10.sort_values(by=\"SALES\", ascending=False)\n",
        "top_10 = top_10.head(10)\n",
        "top_10"
      ],
      "metadata": {
        "trusted": true,
        "execution": {
          "iopub.status.busy": "2025-02-05T15:21:24.820986Z",
          "iopub.execute_input": "2025-02-05T15:21:24.821311Z",
          "iopub.status.idle": "2025-02-05T15:21:24.837157Z",
          "shell.execute_reply.started": "2025-02-05T15:21:24.821286Z",
          "shell.execute_reply": "2025-02-05T15:21:24.836147Z"
        },
        "id": "okDS9Ki59O1o"
      },
      "outputs": [],
      "execution_count": null
    },
    {
      "cell_type": "code",
      "source": [
        "plt.figure(figsize=(12,6))\n",
        "sns.barplot(data=top_10, x=\"SALES\", y=\"CUSTOMERNAME\", palette=\"magma\")\n",
        "\n",
        "\n",
        "plt.xlabel(\"Total Sales\")\n",
        "plt.ylabel(\"Customer Name\")\n",
        "plt.title(\"Top 10 Customers by Sales\")\n",
        "# plt.gca().invert_yaxis()\n",
        "\n",
        "\n",
        "plt.show()"
      ],
      "metadata": {
        "trusted": true,
        "execution": {
          "iopub.status.busy": "2025-02-05T15:21:24.838134Z",
          "iopub.execute_input": "2025-02-05T15:21:24.838495Z",
          "iopub.status.idle": "2025-02-05T15:21:25.091545Z",
          "shell.execute_reply.started": "2025-02-05T15:21:24.838455Z",
          "shell.execute_reply": "2025-02-05T15:21:25.090457Z"
        },
        "id": "OGstwc429O1o"
      },
      "outputs": [],
      "execution_count": null
    },
    {
      "cell_type": "markdown",
      "source": [
        "Sales by Country"
      ],
      "metadata": {
        "id": "5zTknTdW9O1o"
      }
    },
    {
      "cell_type": "code",
      "source": [
        "country_sales = df.groupby(\"COUNTRY\")['SALES'].sum().reset_index()\n",
        "country_sales = country_sales.sort_values(by=\"SALES\", ascending=False)\n",
        "country_sales = country_sales.head(10)\n",
        "country_sales"
      ],
      "metadata": {
        "trusted": true,
        "execution": {
          "iopub.status.busy": "2025-02-05T15:21:25.092514Z",
          "iopub.execute_input": "2025-02-05T15:21:25.092834Z",
          "iopub.status.idle": "2025-02-05T15:21:25.109812Z",
          "shell.execute_reply.started": "2025-02-05T15:21:25.092808Z",
          "shell.execute_reply": "2025-02-05T15:21:25.108781Z"
        },
        "id": "sss6NbVJ9O1o"
      },
      "outputs": [],
      "execution_count": null
    },
    {
      "cell_type": "code",
      "source": [
        "plt.figure(figsize=(12,6))\n",
        "sns.barplot(data=country_sales, x='SALES', y='COUNTRY', palette='coolwarm')\n",
        "\n",
        "plt.xlabel(\"Total Sales\")\n",
        "plt.ylabel(\"Country\")\n",
        "plt.title(\"Top 10 Countries by Sales\")\n",
        "\n",
        "\n",
        "plt.show()"
      ],
      "metadata": {
        "trusted": true,
        "execution": {
          "iopub.status.busy": "2025-02-05T15:21:25.110696Z",
          "iopub.execute_input": "2025-02-05T15:21:25.110997Z",
          "iopub.status.idle": "2025-02-05T15:21:25.36611Z",
          "shell.execute_reply.started": "2025-02-05T15:21:25.110967Z",
          "shell.execute_reply": "2025-02-05T15:21:25.365112Z"
        },
        "id": "3BHm4Uk39O1p"
      },
      "outputs": [],
      "execution_count": null
    },
    {
      "cell_type": "markdown",
      "source": [
        "Sales by Year, Quarter and Month"
      ],
      "metadata": {
        "id": "IMJmMIzT9O1p"
      }
    },
    {
      "cell_type": "code",
      "source": [
        "df[\"ORDERDATE\"] = pd.to_datetime(df[\"ORDERDATE\"], errors=\"coerce\")"
      ],
      "metadata": {
        "trusted": true,
        "execution": {
          "iopub.status.busy": "2025-02-05T16:19:45.299133Z",
          "iopub.execute_input": "2025-02-05T16:19:45.299535Z",
          "iopub.status.idle": "2025-02-05T16:19:45.30823Z",
          "shell.execute_reply.started": "2025-02-05T16:19:45.299504Z",
          "shell.execute_reply": "2025-02-05T16:19:45.307195Z"
        },
        "id": "Ay1i4Vp29O1p"
      },
      "outputs": [],
      "execution_count": null
    },
    {
      "cell_type": "code",
      "source": [
        "df[\"Year\"] = df[\"ORDERDATE\"].dt.year\n",
        "df[\"Quarter\"] = df[\"ORDERDATE\"].dt.quarter\n",
        "df[\"Month\"] = df[\"ORDERDATE\"].dt.month"
      ],
      "metadata": {
        "trusted": true,
        "execution": {
          "iopub.status.busy": "2025-02-05T16:19:51.443639Z",
          "iopub.execute_input": "2025-02-05T16:19:51.444006Z",
          "iopub.status.idle": "2025-02-05T16:19:51.450643Z",
          "shell.execute_reply.started": "2025-02-05T16:19:51.443975Z",
          "shell.execute_reply": "2025-02-05T16:19:51.449604Z"
        },
        "id": "GGV5KNlg9O1q"
      },
      "outputs": [],
      "execution_count": null
    },
    {
      "cell_type": "code",
      "source": [
        "sales_by_year = df.groupby(\"Year\")[\"SALES\"].sum().reset_index()\n",
        "\n",
        "sales_by_quarter = df.groupby([\"Year\", \"Quarter\"])[\"SALES\"].sum().reset_index()\n",
        "\n",
        "\n",
        "sales_by_month = df.groupby([\"Year\", \"Month\"])[\"SALES\"].sum().reset_index()"
      ],
      "metadata": {
        "trusted": true,
        "execution": {
          "iopub.status.busy": "2025-02-05T16:24:19.196998Z",
          "iopub.execute_input": "2025-02-05T16:24:19.197338Z",
          "iopub.status.idle": "2025-02-05T16:24:19.209822Z",
          "shell.execute_reply.started": "2025-02-05T16:24:19.197312Z",
          "shell.execute_reply": "2025-02-05T16:24:19.208859Z"
        },
        "id": "3aTAHEKu9O1q"
      },
      "outputs": [],
      "execution_count": null
    },
    {
      "cell_type": "code",
      "source": [
        "plt.figure(figsize=(10, 5))\n",
        "sns.lineplot(data=sales_by_year, x=\"Year\", y=\"SALES\", marker=\"o\", linewidth=2)\n",
        "plt.xlabel(\"Year\")\n",
        "plt.ylabel(\"Total Sales\")\n",
        "plt.title(\"Total Sales by Year\")\n",
        "plt.show()"
      ],
      "metadata": {
        "trusted": true,
        "execution": {
          "iopub.status.busy": "2025-02-05T16:24:23.975345Z",
          "iopub.execute_input": "2025-02-05T16:24:23.975681Z",
          "iopub.status.idle": "2025-02-05T16:24:24.205398Z",
          "shell.execute_reply.started": "2025-02-05T16:24:23.975652Z",
          "shell.execute_reply": "2025-02-05T16:24:24.204317Z"
        },
        "id": "5OEbiJ4Y9O1q"
      },
      "outputs": [],
      "execution_count": null
    },
    {
      "cell_type": "code",
      "source": [
        "plt.figure(figsize=(12, 6))\n",
        "sns.lineplot(data=sales_by_quarter, x=\"Quarter\", y=\"SALES\", hue=\"Year\", marker=\"o\")\n",
        "plt.xlabel(\"Quarter\")\n",
        "plt.ylabel(\"Total Sales\")\n",
        "plt.title(\"Total Sales by Quarter\")\n",
        "plt.show()"
      ],
      "metadata": {
        "trusted": true,
        "execution": {
          "iopub.status.busy": "2025-02-05T16:24:50.404369Z",
          "iopub.execute_input": "2025-02-05T16:24:50.404676Z",
          "iopub.status.idle": "2025-02-05T16:24:50.704121Z",
          "shell.execute_reply.started": "2025-02-05T16:24:50.404652Z",
          "shell.execute_reply": "2025-02-05T16:24:50.703091Z"
        },
        "id": "ZveJh1wx9O1q"
      },
      "outputs": [],
      "execution_count": null
    },
    {
      "cell_type": "code",
      "source": [
        "plt.figure(figsize=(12, 6))\n",
        "sns.lineplot(data=sales_by_month, x=\"Month\", y=\"SALES\", hue=\"Year\", marker=\"o\")\n",
        "plt.xlabel(\"Month\")\n",
        "plt.ylabel(\"Total Sales\")\n",
        "plt.title(\"Total Sales by Month\")\n",
        "plt.xticks(range(1, 13))  # Ensure x-axis has months 1-12\n",
        "plt.show()"
      ],
      "metadata": {
        "trusted": true,
        "execution": {
          "iopub.status.busy": "2025-02-05T16:28:32.908993Z",
          "iopub.execute_input": "2025-02-05T16:28:32.909339Z",
          "iopub.status.idle": "2025-02-05T16:28:33.193276Z",
          "shell.execute_reply.started": "2025-02-05T16:28:32.909312Z",
          "shell.execute_reply": "2025-02-05T16:28:33.191947Z"
        },
        "id": "H6PfLcfs9O1r"
      },
      "outputs": [],
      "execution_count": null
    },
    {
      "cell_type": "code",
      "source": [],
      "metadata": {
        "trusted": true,
        "id": "uWe_I0xH9O1r"
      },
      "outputs": [],
      "execution_count": null
    }
  ]
}